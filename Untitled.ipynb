{
 "cells": [
  {
   "cell_type": "code",
   "execution_count": 5,
   "id": "be3a09fa-6698-4c0d-a0b7-400815fb6876",
   "metadata": {},
   "outputs": [],
   "source": [
    "l = [\"shah\", \"khan\", \"pwskills\", \"course\",1,2,3,4,5,786,345,789]"
   ]
  },
  {
   "cell_type": "code",
   "execution_count": 6,
   "id": "1568e83a-3e7a-433f-ac8c-63d62523bff1",
   "metadata": {},
   "outputs": [
    {
     "data": {
      "text/plain": [
       "['shah', 'khan', 'pwskills', 'course']"
      ]
     },
     "execution_count": 6,
     "metadata": {},
     "output_type": "execute_result"
    }
   ],
   "source": [
    "l"
   ]
  },
  {
   "cell_type": "code",
   "execution_count": 8,
   "id": "4b5a1a47-b6c3-4c23-a567-ee2b36bad3cf",
   "metadata": {},
   "outputs": [
    {
     "name": "stdout",
     "output_type": "stream",
     "text": [
      "shah\n",
      "khan\n",
      "pwskills\n",
      "course\n"
     ]
    }
   ],
   "source": [
    "l1= []\n",
    "for i in l :\n",
    "    print(i)\n",
    "    l1.append(i.upper())"
   ]
  },
  {
   "cell_type": "code",
   "execution_count": 10,
   "id": "8ab0e9bc-80f3-4e95-a804-5ee01bf65b21",
   "metadata": {},
   "outputs": [],
   "source": [
    "l1_num = []\n",
    "l2_str = []\n",
    "for i in l :\n",
    "    if type(i) == int or type(i) == float:\n",
    "        l1_num.append(i)\n",
    "        else:\n",
    "        l2_str.append(i)"
   ]
  },
  {
   "cell_type": "code",
   "execution_count": 13,
   "id": "2084894a-4532-47cd-a6b0-04f794e86dfd",
   "metadata": {},
   "outputs": [
    {
     "data": {
      "text/plain": [
       "[]"
      ]
     },
     "execution_count": 13,
     "metadata": {},
     "output_type": "execute_result"
    }
   ],
   "source": [
    "l1_num"
   ]
  },
  {
   "cell_type": "code",
   "execution_count": 14,
   "id": "ee4822e0-fdcd-4afb-addb-48667c52a83e",
   "metadata": {},
   "outputs": [
    {
     "data": {
      "text/plain": [
       "['shah', 'khan', 'pwskills', 'course']"
      ]
     },
     "execution_count": 14,
     "metadata": {},
     "output_type": "execute_result"
    }
   ],
   "source": [
    "l"
   ]
  },
  {
   "cell_type": "code",
   "execution_count": 15,
   "id": "5fce763f-7357-4daa-96a8-c70b28583520",
   "metadata": {},
   "outputs": [],
   "source": [
    "lx = [\"shah\", \"khan\", \"pwskills\", \"course\",1,2,3,4,5,786,345,789]"
   ]
  },
  {
   "cell_type": "code",
   "execution_count": 16,
   "id": "7fc93860-b75c-469e-8985-23ee4aca86a0",
   "metadata": {},
   "outputs": [
    {
     "data": {
      "text/plain": [
       "['shah', 'khan', 'pwskills', 'course', 1, 2, 3, 4, 5, 786, 345, 789]"
      ]
     },
     "execution_count": 16,
     "metadata": {},
     "output_type": "execute_result"
    }
   ],
   "source": [
    "lx"
   ]
  },
  {
   "cell_type": "code",
   "execution_count": 17,
   "id": "80a8a14d-7c3b-4cdc-9d6a-d493b69774c9",
   "metadata": {},
   "outputs": [
    {
     "ename": "SyntaxError",
     "evalue": "invalid syntax (4242458085.py, line 6)",
     "output_type": "error",
     "traceback": [
      "\u001b[0;36m  Cell \u001b[0;32mIn[17], line 6\u001b[0;36m\u001b[0m\n\u001b[0;31m    else:\u001b[0m\n\u001b[0m    ^\u001b[0m\n\u001b[0;31mSyntaxError\u001b[0m\u001b[0;31m:\u001b[0m invalid syntax\n"
     ]
    }
   ],
   "source": [
    "l1_num = []\n",
    "l2_str = []\n",
    "for i in lx :\n",
    "    if type(i) == int or type(i) == float:\n",
    "        l1_num.append(i)\n",
    "        else:\n",
    "        l2_str.append(i)"
   ]
  },
  {
   "cell_type": "code",
   "execution_count": null,
   "id": "b803239f-aa04-4c89-9046-6dd6c57ae83b",
   "metadata": {},
   "outputs": [],
   "source": []
  }
 ],
 "metadata": {
  "kernelspec": {
   "display_name": "Python 3 (ipykernel)",
   "language": "python",
   "name": "python3"
  },
  "language_info": {
   "codemirror_mode": {
    "name": "ipython",
    "version": 3
   },
   "file_extension": ".py",
   "mimetype": "text/x-python",
   "name": "python",
   "nbconvert_exporter": "python",
   "pygments_lexer": "ipython3",
   "version": "3.10.8"
  }
 },
 "nbformat": 4,
 "nbformat_minor": 5
}
